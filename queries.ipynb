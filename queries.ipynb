{
 "cells": [
  {
   "cell_type": "markdown",
   "metadata": {},
   "source": [
    "# PART 2"
   ]
  },
  {
   "cell_type": "code",
   "execution_count": 1,
   "metadata": {},
   "outputs": [],
   "source": [
    "import mysql.connector as mysql\n",
    "from haversine import haversine, Unit\n",
    "from tabulate import tabulate"
   ]
  },
  {
   "cell_type": "code",
   "execution_count": 2,
   "metadata": {},
   "outputs": [],
   "source": [
    "try:\n",
    "    connection = mysql.connect(host=\"localhost\", database=\"geolife\", user=\"root\", password=\"123\", port=3306)\n",
    "    cursor = connection.cursor()\n",
    "except Exception as e:\n",
    "    print(\"ERROR: Failed to connect to db:\", e)"
   ]
  },
  {
   "cell_type": "markdown",
   "metadata": {},
   "source": [
    "#### 1. How many users, activities, and trackpoints are there in the dataset (after it is inserted into the database)."
   ]
  },
  {
   "cell_type": "code",
   "execution_count": 3,
   "metadata": {},
   "outputs": [
    {
     "name": "stdout",
     "output_type": "stream",
     "text": [
      "+------------+---------+\n",
      "|   Table    |  Count  |\n",
      "+------------+---------+\n",
      "|    User    |   182   |\n",
      "|  Activity  |  16033  |\n",
      "| TrackPoint | 9681069 |\n",
      "+------------+---------+\n"
     ]
    }
   ],
   "source": [
    "cursor.execute( \"\"\"\n",
    "        SELECT 'User', COUNT(*) FROM User\n",
    "        UNION ALL\n",
    "        SELECT 'Activity', COUNT(*) FROM Activity\n",
    "        UNION ALL\n",
    "        SELECT 'TrackPoint', COUNT(*) FROM TrackPoint\n",
    "    \"\"\")\n",
    "rows = cursor.fetchall()\n",
    "print(tabulate(rows, headers=['Table', 'Count'], tablefmt=\"pretty\"))"
   ]
  },
  {
   "cell_type": "markdown",
   "metadata": {},
   "source": [
    "#### 2. Find the average number of activities per user."
   ]
  },
  {
   "cell_type": "code",
   "execution_count": 4,
   "metadata": {},
   "outputs": [
    {
     "name": "stdout",
     "output_type": "stream",
     "text": [
      "+-----------------------------+\n",
      "| Average Activities Per User |\n",
      "+-----------------------------+\n",
      "|           93.2151           |\n",
      "+-----------------------------+\n"
     ]
    }
   ],
   "source": [
    "cursor.execute(\"\"\"\n",
    "    SELECT AVG(activity_count)\n",
    "    FROM (\n",
    "        SELECT COUNT(*) AS activity_count\n",
    "        FROM Activity\n",
    "        GROUP BY user_id\n",
    "    ) AS activity_counts\n",
    "\"\"\")\n",
    "rows = cursor.fetchall()\n",
    "print(tabulate(rows, headers=['Average Activities Per User'], tablefmt=\"pretty\"))"
   ]
  },
  {
   "cell_type": "markdown",
   "metadata": {},
   "source": [
    "#### 3. Find the top 20 users with the highest number of activities."
   ]
  },
  {
   "cell_type": "code",
   "execution_count": 5,
   "metadata": {},
   "outputs": [
    {
     "name": "stdout",
     "output_type": "stream",
     "text": [
      "+---------+----------------+\n",
      "| User ID | Activity Count |\n",
      "+---------+----------------+\n",
      "|   128   |      2102      |\n",
      "|   153   |      1793      |\n",
      "|   025   |      715       |\n",
      "|   163   |      704       |\n",
      "|   062   |      691       |\n",
      "|   144   |      563       |\n",
      "|   041   |      399       |\n",
      "|   085   |      364       |\n",
      "|   004   |      346       |\n",
      "|   140   |      345       |\n",
      "|   167   |      320       |\n",
      "|   068   |      280       |\n",
      "|   017   |      265       |\n",
      "|   003   |      261       |\n",
      "|   014   |      236       |\n",
      "|   126   |      215       |\n",
      "|   030   |      210       |\n",
      "|   112   |      208       |\n",
      "|   011   |      201       |\n",
      "|   039   |      198       |\n",
      "+---------+----------------+\n"
     ]
    }
   ],
   "source": [
    "cursor.execute(\"\"\"\n",
    "    SELECT user_id, COUNT(*) AS activity_count\n",
    "    FROM Activity\n",
    "    GROUP BY user_id\n",
    "    ORDER BY activity_count DESC\n",
    "    LIMIT 20\n",
    "\"\"\")\n",
    "rows = cursor.fetchall()\n",
    "print(tabulate(rows, headers=['User ID', 'Activity Count'], tablefmt=\"pretty\"))"
   ]
  },
  {
   "cell_type": "markdown",
   "metadata": {},
   "source": [
    "#### 4. Find all users who have taken a taxi."
   ]
  },
  {
   "cell_type": "code",
   "execution_count": 6,
   "metadata": {},
   "outputs": [
    {
     "name": "stdout",
     "output_type": "stream",
     "text": [
      "+---------+\n",
      "| User ID |\n",
      "+---------+\n",
      "|   010   |\n",
      "|   058   |\n",
      "|   062   |\n",
      "|   078   |\n",
      "|   080   |\n",
      "|   085   |\n",
      "|   098   |\n",
      "|   111   |\n",
      "|   128   |\n",
      "|   163   |\n",
      "+---------+\n"
     ]
    }
   ],
   "source": [
    "cursor.execute(\"\"\"\n",
    "    SELECT DISTINCT user_id\n",
    "    FROM Activity\n",
    "    WHERE transportation_mode = 'taxi'\n",
    "\"\"\")\n",
    "rows = cursor.fetchall()\n",
    "print(tabulate(rows, headers=['User ID'], tablefmt=\"pretty\"))\n"
   ]
  },
  {
   "cell_type": "markdown",
   "metadata": {},
   "source": [
    "#### 5. Find all types of transportation modes and count how many activities that are tagged with these transportation mode labels. Do not count the rows where the mode is null."
   ]
  },
  {
   "cell_type": "code",
   "execution_count": 7,
   "metadata": {},
   "outputs": [
    {
     "name": "stdout",
     "output_type": "stream",
     "text": [
      "+---------------------+----------------+\n",
      "| Transportation Mode | Activity Count |\n",
      "+---------------------+----------------+\n",
      "|        walk         |      480       |\n",
      "|         car         |      419       |\n",
      "|        bike         |      263       |\n",
      "|         bus         |      199       |\n",
      "|       subway        |      133       |\n",
      "|        taxi         |       37       |\n",
      "|      airplane       |       3        |\n",
      "|        train        |       2        |\n",
      "|         run         |       1        |\n",
      "|        boat         |       1        |\n",
      "+---------------------+----------------+\n"
     ]
    }
   ],
   "source": [
    "cursor.execute(\"\"\"\n",
    "    SELECT transportation_mode, COUNT(*) AS activity_count\n",
    "    FROM Activity\n",
    "    WHERE transportation_mode IS NOT NULL\n",
    "    GROUP BY transportation_mode\n",
    "    ORDER BY activity_count DESC\n",
    "\"\"\")\n",
    "rows = cursor.fetchall()\n",
    "print(tabulate(rows, headers=['Transportation Mode', 'Activity Count'], tablefmt='pretty'))\n"
   ]
  },
  {
   "cell_type": "markdown",
   "metadata": {},
   "source": [
    "#### 6. a) Find the year with the most activities."
   ]
  },
  {
   "cell_type": "code",
   "execution_count": 8,
   "metadata": {},
   "outputs": [
    {
     "name": "stdout",
     "output_type": "stream",
     "text": [
      "+------+----------------+\n",
      "| Year | Activity Count |\n",
      "+------+----------------+\n",
      "| 2008 |      5888      |\n",
      "| 2009 |      5879      |\n",
      "| 2010 |      1487      |\n",
      "| 2011 |      1204      |\n",
      "| 2007 |      986       |\n",
      "| 2012 |      588       |\n",
      "| 2000 |       1        |\n",
      "+------+----------------+\n",
      "\n",
      " 2008 is the year with the most activities.\n"
     ]
    }
   ],
   "source": [
    "cursor.execute(\"\"\"\n",
    "    SELECT YEAR(start_date_time) as year, COUNT(*) AS activity_count\n",
    "    FROM Activity\n",
    "    GROUP BY year\n",
    "    ORDER BY activity_count DESC\n",
    "\"\"\")\n",
    "rows = cursor.fetchall()\n",
    "print(tabulate(rows, headers=['Year', 'Activity Count'], tablefmt='pretty'))\n",
    "print(\"\\n\", rows[0][0], \"is the year with the most activities.\")\n"
   ]
  },
  {
   "cell_type": "markdown",
   "metadata": {},
   "source": [
    "#### 6. b) Is this also the year with most recorded hours? "
   ]
  },
  {
   "cell_type": "code",
   "execution_count": 9,
   "metadata": {},
   "outputs": [
    {
     "name": "stdout",
     "output_type": "stream",
     "text": [
      "+------+-------------+\n",
      "| Year | Total Hours |\n",
      "+------+-------------+\n",
      "| 2009 |    11612    |\n",
      "| 2008 |    9180     |\n",
      "| 2007 |    2282     |\n",
      "| 2010 |    1389     |\n",
      "| 2011 |    1132     |\n",
      "| 2012 |     711     |\n",
      "| 2000 |      0      |\n",
      "+------+-------------+\n",
      "\n",
      " 2009 is the year with the most hours.\n"
     ]
    }
   ],
   "source": [
    "cursor.execute(\"\"\"\n",
    "    SELECT YEAR(start_date_time) as year, \n",
    "        ROUND(SUM(TIMESTAMPDIFF(SECOND, start_date_time, end_date_time))/3600, 0) as total_hours\n",
    "    FROM Activity\n",
    "    GROUP BY year\n",
    "    ORDER BY total_hours DESC\n",
    "\"\"\")\n",
    "rows = cursor.fetchall()\n",
    "print(tabulate(rows, headers=['Year', 'Total Hours'], tablefmt='pretty'))\n",
    "print(\"\\n\", rows[0][0], \"is the year with the most hours.\")"
   ]
  },
  {
   "cell_type": "markdown",
   "metadata": {},
   "source": [
    "#### 7. Find the total distance (in km) walked in 2008, by user with id=112."
   ]
  },
  {
   "cell_type": "code",
   "execution_count": 10,
   "metadata": {},
   "outputs": [
    {
     "name": "stdout",
     "output_type": "stream",
     "text": [
      "Total distance walked in 2008 by user 112: 141.21 km\n"
     ]
    }
   ],
   "source": [
    "cursor.execute(\"\"\"\n",
    "    SELECT tp.lat, tp.lon\n",
    "    FROM TrackPoint tp\n",
    "    JOIN Activity a ON tp.activity_id = a.id\n",
    "    WHERE a.user_id = '112'\n",
    "      AND a.transportation_mode = 'walk'\n",
    "      AND YEAR(a.start_date_time) = 2008\n",
    "    ORDER BY a.id, tp.date_time\n",
    "\"\"\")\n",
    "trackpoints = cursor.fetchall()\n",
    "\n",
    "total_distance_km = 0\n",
    "for i in range(1, len(trackpoints)):\n",
    "    prev_point = (trackpoints[i-1][0], trackpoints[i-1][1])  # (lat, lon)\n",
    "    curr_point = (trackpoints[i][0], trackpoints[i][1])      # (lat, lon)\n",
    "    distance = haversine(prev_point, curr_point, unit=Unit.KILOMETERS)\n",
    "    total_distance_km += distance\n",
    "\n",
    "print(f\"Total distance walked in 2008 by user 112: {total_distance_km:.2f} km\")"
   ]
  },
  {
   "cell_type": "markdown",
   "metadata": {},
   "source": [
    "#### 8. Find the top 20 users who have gained the most altitude meters."
   ]
  },
  {
   "cell_type": "code",
   "execution_count": 11,
   "metadata": {},
   "outputs": [
    {
     "name": "stdout",
     "output_type": "stream",
     "text": [
      "+---------+-----------------------------+\n",
      "| User ID | Total Elevation Gain (feet) |\n",
      "+---------+-----------------------------+\n",
      "|   128   |           2135455           |\n",
      "|   153   |           1820766           |\n",
      "|   004   |           1089358           |\n",
      "|   041   |           789890            |\n",
      "|   003   |           766613            |\n",
      "|   085   |           714049            |\n",
      "|   163   |           673439            |\n",
      "|   062   |           596103            |\n",
      "|   144   |           588771            |\n",
      "|   030   |           576377            |\n",
      "|   039   |           481311            |\n",
      "|   084   |           430319            |\n",
      "|   000   |           398638            |\n",
      "|   002   |           377503            |\n",
      "|   167   |           370647            |\n",
      "|   025   |           358098            |\n",
      "|   037   |           325528            |\n",
      "|   140   |           311151            |\n",
      "|   126   |           272389            |\n",
      "|   017   |           205270            |\n",
      "+---------+-----------------------------+\n"
     ]
    }
   ],
   "source": [
    "# Only remove altitude values which we KNOW are invalid, ie. they are -777 as specified it the assignment or NULL.\n",
    "cursor.execute(\"\"\"\n",
    "SELECT\n",
    "    a.user_id AS user_id,\n",
    "    SUM(CASE WHEN tp2.altitude > tp1.altitude THEN tp2.altitude - tp1.altitude ELSE 0 END) AS total_elevation_gain\n",
    "FROM Activity AS a \n",
    "JOIN TrackPoint AS tp1 ON a.id = tp1.activity_id\n",
    "JOIN TrackPoint AS tp2 ON a.id = tp2.activity_id AND tp2.id = tp1.id + 1\n",
    "WHERE tp1.altitude IS NOT NULL AND tp2.altitude IS NOT NULL AND tp1.altitude != -777 AND tp2.altitude != -777\n",
    "GROUP BY user_id\n",
    "ORDER BY total_elevation_gain DESC\n",
    "LIMIT 20\n",
    "\"\"\")\n",
    "\n",
    "rows = cursor.fetchall()\n",
    "print(tabulate(rows, headers=['User ID', 'Total Elevation Gain (feet)'], tablefmt='pretty'))"
   ]
  },
  {
   "cell_type": "markdown",
   "metadata": {},
   "source": [
    "#### 9. Find all users who have invalid activities, and the number of invalid activities per user"
   ]
  },
  {
   "cell_type": "code",
   "execution_count": 18,
   "metadata": {},
   "outputs": [
    {
     "name": "stdout",
     "output_type": "stream",
     "text": [
      "+---------+------------------------+\n",
      "| User ID | Invalid Activity Count |\n",
      "+---------+------------------------+\n",
      "|   000   |          101           |\n",
      "|   001   |           45           |\n",
      "|   002   |           98           |\n",
      "|   003   |          179           |\n",
      "|   004   |          219           |\n",
      "|   005   |           45           |\n",
      "|   006   |           17           |\n",
      "|   007   |           30           |\n",
      "|   008   |           16           |\n",
      "|   009   |           31           |\n",
      "|   010   |           50           |\n",
      "|   011   |           32           |\n",
      "|   012   |           43           |\n",
      "|   013   |           29           |\n",
      "|   014   |          118           |\n",
      "|   015   |           46           |\n",
      "|   016   |           20           |\n",
      "|   017   |          129           |\n",
      "|   018   |           27           |\n",
      "|   019   |           31           |\n",
      "|   020   |           20           |\n",
      "|   021   |           7            |\n",
      "|   022   |           55           |\n",
      "|   023   |           11           |\n",
      "|   024   |           27           |\n",
      "|   025   |          263           |\n",
      "|   026   |           18           |\n",
      "|   027   |           2            |\n",
      "|   028   |           36           |\n",
      "|   029   |           25           |\n",
      "|   030   |          112           |\n",
      "|   031   |           3            |\n",
      "|   032   |           12           |\n",
      "|   033   |           2            |\n",
      "|   034   |           88           |\n",
      "|   035   |           23           |\n",
      "|   036   |           34           |\n",
      "|   037   |          100           |\n",
      "|   038   |           58           |\n",
      "|   039   |          147           |\n",
      "|   040   |           17           |\n",
      "|   041   |          201           |\n",
      "|   042   |           55           |\n",
      "|   043   |           21           |\n",
      "|   044   |           32           |\n",
      "|   045   |           7            |\n",
      "|   046   |           13           |\n",
      "|   047   |           6            |\n",
      "|   048   |           1            |\n",
      "|   050   |           8            |\n",
      "|   051   |           36           |\n",
      "|   052   |           44           |\n",
      "|   053   |           7            |\n",
      "|   054   |           2            |\n",
      "|   055   |           15           |\n",
      "|   056   |           7            |\n",
      "|   057   |           16           |\n",
      "|   058   |           13           |\n",
      "|   059   |           5            |\n",
      "|   060   |           1            |\n",
      "|   061   |           12           |\n",
      "|   062   |          249           |\n",
      "|   063   |           8            |\n",
      "|   064   |           7            |\n",
      "|   065   |           26           |\n",
      "|   066   |           6            |\n",
      "|   067   |           33           |\n",
      "|   068   |          139           |\n",
      "|   069   |           6            |\n",
      "|   070   |           5            |\n",
      "|   071   |           29           |\n",
      "|   072   |           2            |\n",
      "|   073   |           18           |\n",
      "|   074   |           19           |\n",
      "|   075   |           6            |\n",
      "|   076   |           8            |\n",
      "|   077   |           3            |\n",
      "|   078   |           19           |\n",
      "|   079   |           2            |\n",
      "|   080   |           6            |\n",
      "|   081   |           16           |\n",
      "|   082   |           27           |\n",
      "|   083   |           15           |\n",
      "|   084   |           99           |\n",
      "|   085   |          184           |\n",
      "|   086   |           5            |\n",
      "|   087   |           3            |\n",
      "|   088   |           11           |\n",
      "|   089   |           40           |\n",
      "|   090   |           3            |\n",
      "|   091   |           63           |\n",
      "|   092   |          101           |\n",
      "|   093   |           4            |\n",
      "|   094   |           16           |\n",
      "|   095   |           4            |\n",
      "|   096   |           35           |\n",
      "|   097   |           14           |\n",
      "|   098   |           5            |\n",
      "|   099   |           11           |\n",
      "|   100   |           3            |\n",
      "|   101   |           46           |\n",
      "|   102   |           13           |\n",
      "|   103   |           24           |\n",
      "|   104   |           97           |\n",
      "|   105   |           9            |\n",
      "|   106   |           3            |\n",
      "|   107   |           1            |\n",
      "|   108   |           5            |\n",
      "|   109   |           3            |\n",
      "|   110   |           17           |\n",
      "|   111   |           26           |\n",
      "|   112   |           67           |\n",
      "|   113   |           1            |\n",
      "|   114   |           3            |\n",
      "|   115   |           58           |\n",
      "|   117   |           3            |\n",
      "|   118   |           3            |\n",
      "|   119   |           22           |\n",
      "|   121   |           4            |\n",
      "|   122   |           6            |\n",
      "|   123   |           3            |\n",
      "|   124   |           4            |\n",
      "|   125   |           25           |\n",
      "|   126   |          105           |\n",
      "|   127   |           4            |\n",
      "|   128   |          720           |\n",
      "|   129   |           6            |\n",
      "|   130   |           8            |\n",
      "|   131   |           10           |\n",
      "|   132   |           3            |\n",
      "|   133   |           4            |\n",
      "|   134   |           31           |\n",
      "|   135   |           5            |\n",
      "|   136   |           6            |\n",
      "|   138   |           10           |\n",
      "|   139   |           12           |\n",
      "|   140   |           86           |\n",
      "|   141   |           1            |\n",
      "|   142   |           52           |\n",
      "|   144   |          157           |\n",
      "|   145   |           5            |\n",
      "|   146   |           7            |\n",
      "|   147   |           30           |\n",
      "|   150   |           16           |\n",
      "|   151   |           1            |\n",
      "|   152   |           2            |\n",
      "|   153   |          557           |\n",
      "|   154   |           14           |\n",
      "|   155   |           30           |\n",
      "|   157   |           9            |\n",
      "|   158   |           9            |\n",
      "|   159   |           5            |\n",
      "|   161   |           7            |\n",
      "|   162   |           9            |\n",
      "|   163   |          233           |\n",
      "|   164   |           6            |\n",
      "|   165   |           2            |\n",
      "|   166   |           2            |\n",
      "|   167   |          134           |\n",
      "|   168   |           19           |\n",
      "|   169   |           9            |\n",
      "|   170   |           2            |\n",
      "|   171   |           3            |\n",
      "|   172   |           9            |\n",
      "|   173   |           5            |\n",
      "|   174   |           54           |\n",
      "|   175   |           4            |\n",
      "|   176   |           8            |\n",
      "|   179   |           28           |\n",
      "|   180   |           2            |\n",
      "+---------+------------------------+\n"
     ]
    }
   ],
   "source": [
    "cursor.execute(\"\"\"\n",
    "    WITH InvalidActivities AS (\n",
    "        SELECT\n",
    "            tp1.activity_id\n",
    "        FROM\n",
    "            TrackPoint tp1\n",
    "        JOIN\n",
    "            TrackPoint tp2 ON tp1.activity_id = tp2.activity_id\n",
    "                        AND tp2.id = tp1.id + 1\n",
    "        WHERE\n",
    "            TIMESTAMPDIFF(MINUTE, tp1.date_time, tp2.date_time) >= 5\n",
    "        GROUP BY\n",
    "            tp1.activity_id\n",
    "    )\n",
    "    SELECT  \n",
    "        user_id,\n",
    "        COUNT(activity_id) AS invalid_activities_count\n",
    "    FROM\n",
    "        InvalidActivities as ia\n",
    "    JOIN Activity as a ON a.id = ia.activity_id\n",
    "    GROUP BY\n",
    "        user_id\n",
    "\"\"\")\n",
    "rows = cursor.fetchall()\n",
    "print(tabulate(rows, headers=['User ID', 'Invalid Activity Count'], tablefmt='pretty'))"
   ]
  },
  {
   "cell_type": "markdown",
   "metadata": {},
   "source": [
    "#### 10. Find the users who have tracked an activity in the Forbidden City of Beijing.  \n"
   ]
  },
  {
   "cell_type": "code",
   "execution_count": 24,
   "metadata": {},
   "outputs": [
    {
     "name": "stdout",
     "output_type": "stream",
     "text": [
      "+---------+\n",
      "| User ID |\n",
      "+---------+\n",
      "|   018   |\n",
      "|   019   |\n",
      "+---------+\n"
     ]
    }
   ],
   "source": [
    "cursor.execute(\"\"\"\n",
    "    SELECT user_id\n",
    "    FROM Activity a\n",
    "    JOIN TrackPoint tp ON a.id = tp.activity_id\n",
    "    WHERE tp.lat BETWEEN 39.916 AND 39.917\n",
    "      AND tp.lon BETWEEN 116.397 AND 116.398\n",
    "    GROUP BY user_id\n",
    "\"\"\")\n",
    "rows = cursor.fetchall()\n",
    "print(tabulate(rows, headers=['User ID'], tablefmt='pretty'))"
   ]
  },
  {
   "cell_type": "markdown",
   "metadata": {},
   "source": [
    "#### 11. Find all users who have registered transportation_mode and their most used transportation_mode. "
   ]
  },
  {
   "cell_type": "code",
   "execution_count": 77,
   "metadata": {},
   "outputs": [
    {
     "name": "stdout",
     "output_type": "stream",
     "text": [
      "+---------+--------------------------------+\n",
      "| User ID |  Most Used Transportation Mode |\n",
      "+---------+--------------------------------+\n",
      "|   010   |              taxi              |\n",
      "|   020   |              bike              |\n",
      "|   021   |              walk              |\n",
      "|   052   |              bus               |\n",
      "|   056   |              bike              |\n",
      "|   058   |              car               |\n",
      "|   060   |              walk              |\n",
      "|   062   |              bus               |\n",
      "|   064   |              bike              |\n",
      "|   065   |              bike              |\n",
      "|   067   |              walk              |\n",
      "|   069   |              bike              |\n",
      "|   073   |              walk              |\n",
      "|   075   |              walk              |\n",
      "|   076   |              car               |\n",
      "|   078   |              walk              |\n",
      "|   080   |              bike              |\n",
      "|   081   |              bike              |\n",
      "|   082   |              walk              |\n",
      "|   084   |              walk              |\n",
      "|   085   |              walk              |\n",
      "|   086   |              car               |\n",
      "|   087   |              walk              |\n",
      "|   089   |              car               |\n",
      "|   091   |              bus               |\n",
      "|   092   |              bus               |\n",
      "|   097   |              bike              |\n",
      "|   098   |              taxi              |\n",
      "|   101   |              car               |\n",
      "|   102   |              bike              |\n",
      "|   107   |              walk              |\n",
      "|   108   |              walk              |\n",
      "|   111   |              taxi              |\n",
      "|   112   |              walk              |\n",
      "|   115   |              car               |\n",
      "|   117   |              walk              |\n",
      "|   125   |              bike              |\n",
      "|   126   |              bike              |\n",
      "|   128   |              car               |\n",
      "|   136   |              walk              |\n",
      "|   138   |              bike              |\n",
      "|   139   |              bike              |\n",
      "|   144   |              walk              |\n",
      "|   153   |              walk              |\n",
      "|   161   |              walk              |\n",
      "|   163   |              bike              |\n",
      "|   167   |              bike              |\n",
      "|   175   |              bus               |\n",
      "+---------+--------------------------------+\n"
     ]
    }
   ],
   "source": [
    "# The innermost subquery finds the user's most used transportation mode(s). The second subquery handles tie breaks alphabetically.\n",
    "cursor.execute(\"\"\"\n",
    "    SELECT user_id, transportation_mode \n",
    "    FROM\n",
    "        (SELECT user_id, transportation_mode, RANK() OVER(PARTITION BY user_id ORDER BY transportation_mode ASC) as lexrnk \n",
    "        FROM\n",
    "            (SELECT user_id, transportation_mode, COUNT(*) AS activity_count,\n",
    "            RANK() OVER(PARTITION BY user_id ORDER BY COUNT(*) DESC) as rnk\n",
    "            FROM Activity\n",
    "            WHERE transportation_mode IS NOT NULL\n",
    "            GROUP BY user_id, transportation_mode) AS Ranked\n",
    "        WHERE rnk = 1\n",
    "        ) AS LexRanked\n",
    "    WHERE lexrnk = 1\n",
    "    ORDER BY user_id\n",
    "    \"\"\")\n",
    "rows = cursor.fetchall()\n",
    "print(tabulate(rows, headers=['User ID',' Most Used Transportation Mode'], tablefmt='pretty'))"
   ]
  }
 ],
 "metadata": {
  "kernelspec": {
   "display_name": "myenv",
   "language": "python",
   "name": "python3"
  },
  "language_info": {
   "codemirror_mode": {
    "name": "ipython",
    "version": 3
   },
   "file_extension": ".py",
   "mimetype": "text/x-python",
   "name": "python",
   "nbconvert_exporter": "python",
   "pygments_lexer": "ipython3",
   "version": "3.11.5"
  }
 },
 "nbformat": 4,
 "nbformat_minor": 2
}
