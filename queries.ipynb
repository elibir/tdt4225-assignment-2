{
 "cells": [
  {
   "cell_type": "code",
   "execution_count": 2,
   "metadata": {},
   "outputs": [],
   "source": [
    "import mysql.connector as mysql\n",
    "import haversine as hs\n",
    "from tabulate import tabulate"
   ]
  },
  {
   "cell_type": "code",
   "execution_count": 4,
   "metadata": {},
   "outputs": [],
   "source": [
    "try:\n",
    "    connection = mysql.connect(host=\"localhost\", database=\"geolife\", user=\"root\", password=\"123\", port=3306)\n",
    "    cursor = connection.cursor()\n",
    "except Exception as e:\n",
    "    print(\"ERROR: Failed to connect to db:\", e)"
   ]
  },
  {
   "cell_type": "markdown",
   "metadata": {},
   "source": [
    "#### 1. How many users, activities, and trackpoints are there in the dataset (after it is inserted into the database)."
   ]
  },
  {
   "cell_type": "code",
   "execution_count": 52,
   "metadata": {},
   "outputs": [
    {
     "name": "stdout",
     "output_type": "stream",
     "text": [
      "+------------+---------+\n",
      "|   Table    |  Count  |\n",
      "+------------+---------+\n",
      "|    User    |   182   |\n",
      "|  Activity  |  16033  |\n",
      "| TrackPoint | 9681069 |\n",
      "+------------+---------+\n"
     ]
    }
   ],
   "source": [
    "# Combine counts using UNION ALL\n",
    "cursor.execute( \"\"\"\n",
    "        SELECT 'User', COUNT(*) FROM User\n",
    "        UNION ALL\n",
    "        SELECT 'Activity', COUNT(*) FROM Activity\n",
    "        UNION ALL\n",
    "        SELECT 'TrackPoint', COUNT(*) FROM TrackPoint\n",
    "    \"\"\")\n",
    "rows = cursor.fetchall()\n",
    "print(tabulate(rows, headers=['Table', 'Count'], tablefmt=\"pretty\"))"
   ]
  },
  {
   "cell_type": "markdown",
   "metadata": {},
   "source": [
    "#### 2. Find the average number of activities per user."
   ]
  },
  {
   "cell_type": "code",
   "execution_count": 53,
   "metadata": {},
   "outputs": [
    {
     "name": "stdout",
     "output_type": "stream",
     "text": [
      "+-----------------------------+\n",
      "| Average Activities Per User |\n",
      "+-----------------------------+\n",
      "|           93.2151           |\n",
      "+-----------------------------+\n"
     ]
    }
   ],
   "source": [
    "cursor.execute(\"\"\"\n",
    "    SELECT AVG(activity_count)\n",
    "    FROM (\n",
    "        SELECT COUNT(*) AS activity_count\n",
    "        FROM Activity\n",
    "        GROUP BY user_id\n",
    "    ) AS activity_counts\n",
    "\"\"\")\n",
    "rows = cursor.fetchall()\n",
    "print(tabulate(rows, headers=['Average Activities Per User'], tablefmt=\"pretty\"))"
   ]
  },
  {
   "cell_type": "markdown",
   "metadata": {},
   "source": [
    "#### 3. Find the top 20 users with the highest number of activities."
   ]
  },
  {
   "cell_type": "code",
   "execution_count": 59,
   "metadata": {},
   "outputs": [
    {
     "name": "stdout",
     "output_type": "stream",
     "text": [
      "+---------+----------------+\n",
      "| User ID | Activity Count |\n",
      "+---------+----------------+\n",
      "|   128   |      2102      |\n",
      "|   153   |      1793      |\n",
      "|   025   |      715       |\n",
      "|   163   |      704       |\n",
      "|   062   |      691       |\n",
      "|   144   |      563       |\n",
      "|   041   |      399       |\n",
      "|   085   |      364       |\n",
      "|   004   |      346       |\n",
      "|   140   |      345       |\n",
      "|   167   |      320       |\n",
      "|   068   |      280       |\n",
      "|   017   |      265       |\n",
      "|   003   |      261       |\n",
      "|   014   |      236       |\n",
      "|   126   |      215       |\n",
      "|   030   |      210       |\n",
      "|   112   |      208       |\n",
      "|   011   |      201       |\n",
      "|   039   |      198       |\n",
      "+---------+----------------+\n"
     ]
    }
   ],
   "source": [
    "cursor.execute(\"\"\"\n",
    "    SELECT user_id, COUNT(*) AS activity_count\n",
    "    FROM Activity\n",
    "    GROUP BY user_id\n",
    "    ORDER BY activity_count DESC\n",
    "    LIMIT 20\n",
    "\"\"\")\n",
    "rows = cursor.fetchall()\n",
    "print(tabulate(rows, headers=['User ID', 'Activity Count'], tablefmt=\"pretty\"))"
   ]
  },
  {
   "cell_type": "markdown",
   "metadata": {},
   "source": [
    "#### 4. Find all users who have taken a taxi."
   ]
  },
  {
   "cell_type": "code",
   "execution_count": 47,
   "metadata": {},
   "outputs": [
    {
     "name": "stdout",
     "output_type": "stream",
     "text": [
      "+---------+\n",
      "| User ID |\n",
      "+---------+\n",
      "|   010   |\n",
      "|   058   |\n",
      "|   062   |\n",
      "|   078   |\n",
      "|   080   |\n",
      "|   085   |\n",
      "|   098   |\n",
      "|   111   |\n",
      "|   128   |\n",
      "|   163   |\n",
      "+---------+\n"
     ]
    }
   ],
   "source": [
    "cursor.execute(\"\"\"\n",
    "    SELECT DISTINCT user_id\n",
    "    FROM Activity\n",
    "    WHERE transportation_mode = 'taxi'\n",
    "\"\"\")\n",
    "rows = cursor.fetchall()\n",
    "print(tabulate(rows, headers=['User ID'], tablefmt=\"pretty\"))\n"
   ]
  },
  {
   "cell_type": "markdown",
   "metadata": {},
   "source": [
    "#### 5. Find all types of transportation modes and count how many activities that are tagged with these transportation mode labels. Do not count the rows where the mode is null."
   ]
  },
  {
   "cell_type": "code",
   "execution_count": 64,
   "metadata": {},
   "outputs": [
    {
     "name": "stdout",
     "output_type": "stream",
     "text": [
      "+---------------------+----------------+\n",
      "| Transportation Mode | Activity Count |\n",
      "+---------------------+----------------+\n",
      "|        walk         |      480       |\n",
      "|         car         |      419       |\n",
      "|        bike         |      263       |\n",
      "|         bus         |      199       |\n",
      "|       subway        |      133       |\n",
      "|        taxi         |       37       |\n",
      "|      airplane       |       3        |\n",
      "|        train        |       2        |\n",
      "|         run         |       1        |\n",
      "|        boat         |       1        |\n",
      "+---------------------+----------------+\n"
     ]
    }
   ],
   "source": [
    "cursor.execute(\"\"\"\n",
    "    SELECT transportation_mode, COUNT(*) AS activity_count\n",
    "    FROM Activity\n",
    "    WHERE transportation_mode IS NOT NULL\n",
    "    GROUP BY transportation_mode\n",
    "    ORDER BY activity_count DESC\n",
    "\"\"\")\n",
    "rows = cursor.fetchall()\n",
    "print(tabulate(rows, headers=['Transportation Mode', 'Activity Count'], tablefmt='pretty'))\n"
   ]
  },
  {
   "cell_type": "markdown",
   "metadata": {},
   "source": [
    "#### 6. a) Find the year with the most activities."
   ]
  },
  {
   "cell_type": "code",
   "execution_count": null,
   "metadata": {},
   "outputs": [],
   "source": [
    "# TODO: content inside execute here is wrong. also clean up unused functions i creator :)\n",
    "cursor.execute(\"\"\"\n",
    "    SELECT transportation_mode, COUNT(*) AS activity_count\n",
    "    FROM Activity\n",
    "    WHERE transportation_mode IS NOT NULL\n",
    "    GROUP BY transportation_mode\n",
    "    ORDER BY activity_count DESC\n",
    "\"\"\")\n",
    "rows = cursor.fetchall()\n",
    "print(tabulate(rows, headers=['Transportation Mode', 'Activity Count'], tablefmt='pretty'))\n"
   ]
  }
 ],
 "metadata": {
  "kernelspec": {
   "display_name": "myenv",
   "language": "python",
   "name": "python3"
  },
  "language_info": {
   "codemirror_mode": {
    "name": "ipython",
    "version": 3
   },
   "file_extension": ".py",
   "mimetype": "text/x-python",
   "name": "python",
   "nbconvert_exporter": "python",
   "pygments_lexer": "ipython3",
   "version": "3.11.5"
  }
 },
 "nbformat": 4,
 "nbformat_minor": 2
}
