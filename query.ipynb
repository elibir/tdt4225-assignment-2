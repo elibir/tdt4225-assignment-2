{
 "cells": [
  {
   "cell_type": "code",
   "execution_count": 2,
   "metadata": {},
   "outputs": [
    {
     "name": "stdout",
     "output_type": "stream",
     "text": [
      "Requirement already satisfied: mysql-connector-python in c:\\users\\marti\\appdata\\local\\programs\\python\\python39\\lib\\site-packages (8.1.0)\n",
      "Requirement already satisfied: protobuf<=4.21.12,>=4.21.1 in c:\\users\\marti\\appdata\\local\\programs\\python\\python39\\lib\\site-packages (from mysql-connector-python) (4.21.12)\n"
     ]
    }
   ],
   "source": [
    "!pip install mysql-connector-python\n",
    "import mysql.connector as mysql\n",
    "import haversine as hs\n",
    "from tabulate import tabulate\n"
   ]
  },
  {
   "cell_type": "code",
   "execution_count": 3,
   "metadata": {},
   "outputs": [],
   "source": [
    "\n",
    "try:\n",
    "    connection = mysql.connect(host=\"localhost\", database=\"strava_db\", user=\"root\", password=\"sveinung\", port=3306)\n",
    "    cursor = connection.cursor()\n",
    "except Exception as e:\n",
    "    print(\"ERROR: Failed to connect to db:\", e)\n"
   ]
  },
  {
   "cell_type": "markdown",
   "metadata": {},
   "source": [
    "## 1.\n",
    "### How many users, activities and trackpoints are there in the dataset (after it is inserted into the database).\n"
   ]
  },
  {
   "cell_type": "code",
   "execution_count": 52,
   "metadata": {},
   "outputs": [
    {
     "name": "stdout",
     "output_type": "stream",
     "text": [
      "  user_count    activity_count    trackpoint_count\n",
      "------------  ----------------  ------------------\n",
      "         182             16030             9636829\n"
     ]
    }
   ],
   "source": [
    "cursor.execute(\"\"\"\n",
    "SELECT \n",
    "    (SELECT count(id) FROM User) AS user_count,\n",
    "    (SELECT count(id) FROM Activity) AS activity_count,\n",
    "    (SELECT count(id) FROM TrackPoint) AS trackpoint_count;\n",
    "\"\"\")\n",
    "result_1 = cursor.fetchall()\n",
    "print(tabulate([*result_1], headers=[\"user_count\",\"activity_count\",\"trackpoint_count\"]))"
   ]
  },
  {
   "cell_type": "markdown",
   "metadata": {},
   "source": [
    "## 2.\n",
    "### Find the average, maximum and minimum number of trackpoints per user."
   ]
  },
  {
   "cell_type": "code",
   "execution_count": 49,
   "metadata": {},
   "outputs": [
    {
     "name": "stdout",
     "output_type": "stream",
     "text": [
      "  average_trackpoints    minimum_trackpoints    maximum_trackpoints\n",
      "---------------------  ---------------------  ---------------------\n",
      "              55704.2                     17                1007827\n"
     ]
    }
   ],
   "source": [
    "cursor.execute(\"\"\"\n",
    "    SELECT \n",
    "        AVG(trackpoints_count) AS average_trackpoints, \n",
    "        MIN(trackpoints_count) AS minimum_trackpoints,\n",
    "        MAX(trackpoints_count) AS maximum_trackpoints \n",
    "    FROM (\n",
    "        SELECT \n",
    "            User.id, \n",
    "            COUNT(TrackPoint.id) AS trackpoints_count\n",
    "        FROM User\n",
    "        INNER JOIN Activity ON User.id = Activity.user_id\n",
    "        INNER JOIN TrackPoint ON Activity.id = TrackPoint.activity_id\n",
    "        GROUP BY User.id\n",
    "    ) AS trackpoints_per_user\n",
    "\"\"\")\n",
    "result_2 = cursor.fetchall()\n",
    "print(tabulate([*result_2], headers=[\"average_trackpoints\",\"minimum_trackpoints\",\"maximum_trackpoints\"]))\n"
   ]
  },
  {
   "cell_type": "markdown",
   "metadata": {},
   "source": [
    "## 3.\n",
    "### Find the top 15 users with the highest number of activities.\n"
   ]
  },
  {
   "cell_type": "code",
   "execution_count": 47,
   "metadata": {},
   "outputs": [
    {
     "name": "stdout",
     "output_type": "stream",
     "text": [
      "  user_id    activity_count\n",
      "---------  ----------------\n",
      "      128              2101\n",
      "      153              1791\n",
      "      025               715\n",
      "      163               704\n",
      "      062               691\n",
      "      144               563\n",
      "      041               398\n",
      "      085               364\n",
      "      004               346\n",
      "      140               345\n",
      "      167               320\n",
      "      068               278\n",
      "      017               265\n",
      "      003               261\n",
      "      014               232\n"
     ]
    }
   ],
   "source": [
    "cursor.execute(\"\"\"\n",
    "    SELECT \n",
    "        User.id, \n",
    "        COUNT(DISTINCT Activity.id) AS activity_count\n",
    "    FROM User\n",
    "    INNER JOIN Activity ON User.id = Activity.user_id\n",
    "    GROUP BY User.id\n",
    "    ORDER BY activity_count DESC\n",
    "    LIMIT 15;\n",
    "\"\"\")\n",
    "\n",
    "result_3 = cursor.fetchall()\n",
    "print(tabulate([*result_3], headers=[\"user_id\",\"activity_count\"]))"
   ]
  },
  {
   "cell_type": "markdown",
   "metadata": {},
   "source": [
    "## 4.\n",
    "### Find all users who have taken a bus."
   ]
  },
  {
   "cell_type": "code",
   "execution_count": 46,
   "metadata": {},
   "outputs": [
    {
     "name": "stdout",
     "output_type": "stream",
     "text": [
      "  used_id\n",
      "---------\n",
      "      010\n",
      "      052\n",
      "      062\n",
      "      073\n",
      "      081\n",
      "      084\n",
      "      085\n",
      "      091\n",
      "      092\n",
      "      112\n",
      "      125\n",
      "      128\n",
      "      175\n"
     ]
    }
   ],
   "source": [
    "cursor.execute(\"\"\"\n",
    "    SELECT DISTINCT User.id\n",
    "    FROM User\n",
    "    INNER JOIN Activity ON User.id = Activity.user_id\n",
    "    WHERE Activity.transportation_mode = 'bus';\n",
    "\"\"\")\n",
    "result_4 = cursor.fetchall()\n",
    "print(tabulate([*result_4], headers=[\"user_id\"]))"
   ]
  },
  {
   "cell_type": "markdown",
   "metadata": {},
   "source": [
    "## 5. \n",
    "### List the top 10 users by their amount of different transportation modes."
   ]
  },
  {
   "cell_type": "code",
   "execution_count": 45,
   "metadata": {},
   "outputs": [
    {
     "name": "stdout",
     "output_type": "stream",
     "text": [
      "  used_id    transportation_mode_count\n",
      "---------  ---------------------------\n",
      "      128                            9\n",
      "      062                            7\n",
      "      085                            4\n",
      "      084                            3\n",
      "      163                            3\n",
      "      058                            3\n",
      "      081                            3\n",
      "      078                            3\n",
      "      112                            3\n",
      "      020                            2\n"
     ]
    }
   ],
   "source": [
    "cursor.execute(\"\"\"\n",
    "    SELECT \n",
    "        User.id, \n",
    "        COUNT(DISTINCT Activity.transportation_mode) AS mode_count\n",
    "    FROM User\n",
    "    INNER JOIN Activity ON User.id = Activity.user_id\n",
    "    WHERE Activity.transportation_mode IS NOT NULL\n",
    "    GROUP BY User.id\n",
    "    ORDER BY mode_count DESC\n",
    "    LIMIT 10;\n",
    "\"\"\")\n",
    "result_5 = cursor.fetchall()\n",
    "print(tabulate([*result_5], headers=[\"user_id\",\"transportation_mode_count\"]))"
   ]
  },
  {
   "cell_type": "markdown",
   "metadata": {},
   "source": [
    "## 6.\n",
    "### Find activities that are registered multiple times. You should find the query even if it gives zero result."
   ]
  },
  {
   "cell_type": "code",
   "execution_count": 44,
   "metadata": {},
   "outputs": [
    {
     "name": "stdout",
     "output_type": "stream",
     "text": [
      "user_id    transportation_mode    start_date_time    end_date_date    invalid_activites\n",
      "---------  ---------------------  -----------------  ---------------  -------------------\n"
     ]
    }
   ],
   "source": [
    "cursor.execute(\"\"\"\n",
    "    SELECT \n",
    "        user_id, \n",
    "        transportation_mode, \n",
    "        start_date_time, \n",
    "        end_date_time, \n",
    "        COUNT(*) AS occurrence_count\n",
    "    FROM Activity\n",
    "    GROUP BY user_id, transportation_mode, start_date_time, end_date_time\n",
    "    HAVING COUNT(*) > 1;\n",
    "\"\"\")\n",
    "result_6 = cursor.fetchall()\n",
    "print(tabulate([*result_6], headers=[\"user_id\",\"transportation_mode\",\"start_date_time\",\"end_date_date\",\"invalid_activites\"]))"
   ]
  },
  {
   "cell_type": "markdown",
   "metadata": {},
   "source": [
    "## 7. a) \n",
    "### Find the number of users that have started an activity in one day and ended the activity the next day.\n",
    "\n",
    "   Not sure if the task asks for us to include the activities that are not classified, we therefore make the assumption that we should not list the 'NULL' activities."
   ]
  },
  {
   "cell_type": "code",
   "execution_count": 4,
   "metadata": {},
   "outputs": [
    {
     "name": "stdout",
     "output_type": "stream",
     "text": [
      "98 people started an activity and ended it on another date\n"
     ]
    }
   ],
   "source": [
    "cursor.execute(\"\"\"\n",
    "    SELECT \n",
    "        COUNT(DISTINCT user_id) \n",
    "    FROM Activity\n",
    "    WHERE DATE(start_date_time) != DATE(end_date_time);\n",
    "\"\"\")\n",
    "\n",
    "result_7a = cursor.fetchall()\n",
    "print(result_7a[0][0], \"people started an activity and ended it on another date\")"
   ]
  },
  {
   "cell_type": "markdown",
   "metadata": {},
   "source": [
    "## b) \n",
    "### List the transportation mode, user id and duration for these activities.\n",
    "\n",
    "Same assumption"
   ]
  },
  {
   "cell_type": "code",
   "execution_count": 62,
   "metadata": {},
   "outputs": [
    {
     "name": "stdout",
     "output_type": "stream",
     "text": [
      "  user_id  transportation_mode      actity_duration\n",
      "---------  ---------------------  -----------------\n",
      "      020  bike                                 610\n",
      "      021  walk                                 237\n",
      "      058  car                                   36\n",
      "      062  walk                                  83\n",
      "      085  bus                                   58\n",
      "      115  car                                   88\n",
      "      115  car                                   62\n",
      "      115  car                                   60\n",
      "      115  car                                   65\n",
      "      115  car                                   83\n",
      "      115  car                                   54\n",
      "      115  car                                   68\n",
      "      115  car                                   69\n",
      "      115  car                                   63\n",
      "      115  car                                   61\n",
      "      115  car                                   55\n",
      "      115  car                                   84\n",
      "      115  car                                   77\n",
      "      115  car                                   61\n",
      "      115  car                                   63\n",
      "      115  car                                   58\n",
      "      115  car                                  466\n",
      "      115  car                                   65\n",
      "      115  car                                   57\n",
      "      115  car                                   68\n",
      "      126  walk                                   7\n",
      "      128  car                                   64\n",
      "      128  car                                   44\n",
      "      128  bus                                   58\n",
      "      128  subway                                30\n",
      "      128  car                                   33\n",
      "      128  car                                  100\n",
      "      128  airplane                             331\n",
      "      128  subway                                27\n",
      "      163  bike                                  11\n"
     ]
    }
   ],
   "source": [
    "cursor.execute(\"\"\"\n",
    "    SELECT \n",
    "        user_id, \n",
    "        transportation_mode, \n",
    "        TIMESTAMPDIFF(MINUTE, start_date_time, end_date_time) AS duration_minutes\n",
    "    FROM Activity\n",
    "    WHERE DATE(start_date_time) != DATE(end_date_time) AND transportation_mode IS NOT NULL;\n",
    "\"\"\")\n",
    "result_7b = cursor.fetchall()\n",
    "print(tabulate([*result_7b], headers=[\"user_id\",\"transportation_mode\",\"actity_duration\"]))\n"
   ]
  },
  {
   "cell_type": "markdown",
   "metadata": {},
   "source": [
    "## 8.\n",
    "### Find the number of users which have been close to each other in time and space. Close is defined as the same space (50 meters) and for the same half minute (30 seconds)\n"
   ]
  },
  {
   "cell_type": "code",
   "execution_count": 16,
   "metadata": {},
   "outputs": [],
   "source": [
    "cursor.execute(\"\"\"\n",
    "SELECT user.id, date, lat,lon FROM Trackpoint\n",
    "INNER JOIN Activity\n",
    "ON Activity.id = Trackpoint.activity_id\n",
    "INNER JOIN user\n",
    "on user.id = activity.user_id\n",
    "ORDER BY date ASC\n",
    "\n",
    "\"\"\")\n",
    "sorted_trackpoints = cursor.fetchall()"
   ]
  },
  {
   "cell_type": "code",
   "execution_count": 19,
   "metadata": {},
   "outputs": [],
   "source": [
    "meetups = []\n",
    "for i in range(len(sorted_trackpoints)):\n",
    "    user1 = sorted_trackpoints[i]\n",
    "    user1_id = user1[0]\n",
    "    user1_date = user1[1]\n",
    "    user1_lat = user1[2]\n",
    "    user1_lon = user1[3]\n",
    "    for j in range(i+1,len(sorted_trackpoints)):\n",
    "        user2 = sorted_trackpoints[j]\n",
    "        user2_id = user2[0]\n",
    "        if user1_id == user2_id: continue\n",
    "        user2_date = user2[1]\n",
    "        seconds_difference = (user2_date - user1_date).total_seconds()\n",
    "        if seconds_difference > 30: break\n",
    "        user2_lat = user2[2]\n",
    "        user2_lon = user2[3]\n",
    "        distance = hs.haversine((user1_lat,user1_lon),(user2_lat,user2_lon))\n",
    "        if distance > 0.05: continue\n",
    "        meetups.append((user1_id,user2_id))\n",
    "        "
   ]
  },
  {
   "cell_type": "code",
   "execution_count": 26,
   "metadata": {},
   "outputs": [
    {
     "name": "stdout",
     "output_type": "stream",
     "text": [
      "number of users who have meet eachother: 121\n"
     ]
    }
   ],
   "source": [
    "dic = {}\n",
    "for tup in meetups:\n",
    "    id1 = tup[0]\n",
    "    id2 = tup[1]\n",
    "    if id1 not in dic: dic[id1] = {id2}\n",
    "    else: dic[id1].add(id2)\n",
    "    if id2 not in dic: dic[id2] = {id1}\n",
    "    else: dic[id2].add(id1)\n",
    "\n",
    "print(len(dic), \"users have been close to each other at some point\")"
   ]
  },
  {
   "cell_type": "markdown",
   "metadata": {},
   "source": [
    "## 9.\n",
    "### Find the top 15 users who have gained the most altitude meters."
   ]
  },
  {
   "cell_type": "code",
   "execution_count": 39,
   "metadata": {},
   "outputs": [
    {
     "name": "stdout",
     "output_type": "stream",
     "text": [
      "  user_id     altitude_gain\n",
      "---------  ----------------\n",
      "      153       2.06276e+06\n",
      "      128       1.88582e+06\n",
      "      004       1.14473e+06\n",
      "      003  793859\n",
      "      163  770091\n",
      "      085  753055\n",
      "      062  670128\n",
      "      041  655190\n",
      "      144  568877\n",
      "      030  563027\n",
      "      039  511261\n",
      "      025  470196\n",
      "      084  453032\n",
      "      167  417595\n",
      "      000  413662\n"
     ]
    }
   ],
   "source": [
    "cursor.execute(\"\"\"\n",
    "SELECT\n",
    "    u.id AS user_id,\n",
    "    SUM(CASE WHEN tp1.altitude > tp2.altitude THEN tp1.altitude - tp2.altitude ELSE 0 END) AS total_altitude_gain\n",
    "FROM\n",
    "    User AS u\n",
    "JOIN\n",
    "    Activity AS a ON u.id = a.user_id\n",
    "JOIN\n",
    "    TrackPoint AS tp1 ON a.id = tp1.activity_id\n",
    "JOIN\n",
    "    TrackPoint AS tp2 ON a.id = tp2.activity_id AND tp1.id = tp2.id - 1\n",
    "WHERE\n",
    "    tp1.altitude IS NOT NULL AND tp2.altitude IS NOT NULL\n",
    "GROUP BY\n",
    "    u.id\n",
    "ORDER BY\n",
    "    total_altitude_gain DESC\n",
    "LIMIT\n",
    "    15;\n",
    "\n",
    "\"\"\")\n",
    "\n",
    "\n",
    "result_9 = cursor.fetchall()\n",
    "print(tabulate([*result_9], headers=[\"user_id\",\"altitude_gain\"]))"
   ]
  },
  {
   "cell_type": "markdown",
   "metadata": {},
   "source": [
    "## 10.\n",
    "### Find the users that have traveled the longest total distance in one day for each transportation mode."
   ]
  },
  {
   "cell_type": "code",
   "execution_count": 63,
   "metadata": {},
   "outputs": [
    {
     "name": "stdout",
     "output_type": "stream",
     "text": [
      "  user_id  transportation_mode      max_distance\n",
      "---------  ---------------------  --------------\n",
      "      108  walk                       22.8074\n",
      "      139  walk                       22.8074\n",
      "      062  train                     277.257\n",
      "      128  taxi                       40.2232\n",
      "      128  subway                     33.9351\n",
      "      062  run                         0.0332528\n",
      "      128  car                       398.173\n",
      "      128  bus                       207.413\n",
      "      128  boat                       65.5547\n",
      "      128  bike                       63.113\n",
      "      128  airplane                 2527.12\n"
     ]
    }
   ],
   "source": [
    "cursor.execute(\"\"\"\n",
    "\n",
    "WITH distances as \n",
    "(\n",
    "    SELECT \n",
    "        a.user_id,\n",
    "        a.transportation_mode,\n",
    "        SUM(\n",
    "            6371 * ACOS(\n",
    "                COS(RADIANS(tp1.lat)) * COS(RADIANS(tp2.lat)) * COS(RADIANS(tp2.lon) - RADIANS(tp1.lon)) +\n",
    "                SIN(RADIANS(tp1.lat)) * SIN(RADIANS(tp2.lat))\n",
    "            )\n",
    "        ) as total_distance,\n",
    "        DATE(tp1.date) as travel_date\n",
    "    FROM \n",
    "        Activity a\n",
    "    JOIN \n",
    "        TrackPoint tp1 ON a.id = tp1.activity_id\n",
    "    JOIN \n",
    "        TrackPoint tp2 ON a.id = tp2.activity_id AND tp1.id = tp2.id - 1\n",
    "    WHERE \n",
    "        a.transportation_mode IS NOT NULL\n",
    "    GROUP BY \n",
    "        a.user_id, a.transportation_mode, travel_date\n",
    "), ActivityMaxDistance AS (\n",
    "    SELECT \n",
    "        d.transportation_mode,\n",
    "        MAX(d.total_distance) AS max_distance \n",
    "    FROM distances d\n",
    "    GROUP BY d.transportation_mode\n",
    ")\n",
    "\n",
    "SELECT user_id, d.transportation_mode, max_distance\n",
    "FROM distances d\n",
    "JOIN ActivityMaxDistance amd ON d.transportation_mode = amd.transportation_mode AND d.total_distance = amd.max_distance\n",
    "ORDER BY d.transportation_mode DESC;\n",
    "\n",
    "\"\"\")\n",
    "\n",
    "result_10 = cursor.fetchall()\n",
    "print(tabulate([*result_10], headers=[\"user_id\", \"transportation_mode\", \"max_distance\"]))\n"
   ]
  },
  {
   "cell_type": "markdown",
   "metadata": {},
   "source": [
    "## 11.\n",
    "### Find all users who have invalid activities, and the number of invalid activities per user"
   ]
  },
  {
   "cell_type": "code",
   "execution_count": 54,
   "metadata": {},
   "outputs": [
    {
     "name": "stdout",
     "output_type": "stream",
     "text": [
      "  user_id    invalid_activity_count\n",
      "---------  ------------------------\n",
      "      000                       101\n",
      "      001                        45\n",
      "      002                        98\n",
      "      003                       179\n",
      "      004                       219\n",
      "      005                        45\n",
      "      006                        17\n",
      "      007                        30\n",
      "      008                        15\n",
      "      009                        31\n",
      "      010                        50\n",
      "      011                        32\n",
      "      012                        43\n",
      "      013                        29\n",
      "      014                       114\n",
      "      015                        46\n",
      "      016                        20\n",
      "      017                       129\n",
      "      018                        27\n",
      "      019                        31\n",
      "      020                        20\n",
      "      021                         7\n",
      "      022                        55\n",
      "      023                        11\n",
      "      024                        27\n",
      "      025                       263\n",
      "      026                        18\n",
      "      027                         2\n",
      "      028                        36\n",
      "      029                        25\n",
      "      030                       112\n",
      "      031                         3\n",
      "      032                        12\n",
      "      033                         2\n",
      "      034                        88\n",
      "      035                        22\n",
      "      036                        34\n",
      "      037                       100\n",
      "      038                        56\n",
      "      039                       147\n",
      "      040                        17\n",
      "      041                       200\n",
      "      042                        55\n",
      "      043                        21\n",
      "      044                        32\n",
      "      045                         7\n",
      "      046                        13\n",
      "      047                         6\n",
      "      048                         1\n",
      "      050                         8\n",
      "      051                        36\n",
      "      052                        44\n",
      "      053                         7\n",
      "      054                         2\n",
      "      055                        15\n",
      "      056                         7\n",
      "      057                        16\n",
      "      058                        13\n",
      "      059                         5\n",
      "      060                         1\n",
      "      061                        12\n",
      "      062                       249\n",
      "      063                         8\n",
      "      064                         7\n",
      "      065                        26\n",
      "      066                         6\n",
      "      067                        33\n",
      "      068                       137\n",
      "      069                         6\n",
      "      070                         5\n",
      "      071                        29\n",
      "      072                         2\n",
      "      073                        18\n",
      "      074                        19\n",
      "      075                         6\n",
      "      076                         8\n",
      "      077                         3\n",
      "      078                        19\n",
      "      079                         2\n",
      "      080                         6\n",
      "      081                        16\n",
      "      082                        26\n",
      "      083                        15\n",
      "      084                        97\n",
      "      085                       184\n",
      "      086                         5\n",
      "      087                         3\n",
      "      088                        11\n",
      "      089                        40\n",
      "      090                         3\n",
      "      091                        63\n",
      "      092                       101\n",
      "      093                         4\n",
      "      094                        16\n",
      "      095                         4\n",
      "      096                        35\n",
      "      097                        14\n",
      "      098                         5\n",
      "      099                        11\n",
      "      100                         3\n",
      "      101                        46\n",
      "      102                        13\n",
      "      103                        24\n",
      "      104                        97\n",
      "      105                         9\n",
      "      106                         3\n",
      "      107                         1\n",
      "      108                         5\n",
      "      109                         3\n",
      "      110                        17\n",
      "      111                        26\n",
      "      112                        67\n",
      "      113                         1\n",
      "      114                         3\n",
      "      115                        58\n",
      "      117                         3\n",
      "      118                         3\n",
      "      119                        22\n",
      "      121                         4\n",
      "      122                         6\n",
      "      123                         3\n",
      "      124                         4\n",
      "      125                        25\n",
      "      126                       105\n",
      "      127                         4\n",
      "      128                       719\n",
      "      129                         6\n",
      "      130                         8\n",
      "      131                        10\n",
      "      132                         3\n",
      "      133                         4\n",
      "      134                        31\n",
      "      135                         5\n",
      "      136                         6\n",
      "      138                        10\n",
      "      139                        12\n",
      "      140                        86\n",
      "      141                         1\n",
      "      142                        52\n",
      "      144                       157\n",
      "      145                         5\n",
      "      146                         7\n",
      "      147                        30\n",
      "      150                        16\n",
      "      151                         1\n",
      "      152                         2\n",
      "      153                       555\n",
      "      154                        14\n",
      "      155                        30\n",
      "      157                         9\n",
      "      158                         9\n",
      "      159                         5\n",
      "      161                         7\n",
      "      162                         9\n",
      "      163                       233\n",
      "      164                         6\n",
      "      165                         2\n",
      "      166                         2\n",
      "      167                       134\n",
      "      168                        18\n",
      "      169                         9\n",
      "      170                         2\n",
      "      171                         3\n",
      "      172                         9\n",
      "      173                         5\n",
      "      174                        54\n",
      "      175                         4\n",
      "      176                         8\n",
      "      179                        28\n",
      "      180                         2\n",
      "      181                        13\n"
     ]
    }
   ],
   "source": [
    "cursor.execute(\"\"\"\n",
    "WITH InvalidActivities AS (\n",
    "    SELECT\n",
    "        tp1.activity_id AS a_id\n",
    "    FROM\n",
    "        TrackPoint AS tp1\n",
    "    JOIN TrackPoint AS tp2 ON tp1.id + 1 = tp2.id\n",
    "    WHERE\n",
    "        tp1.activity_id = tp2.activity_id\n",
    "        AND TIMESTAMPDIFF(MINUTE, tp1.date, tp2.date) >= 5\n",
    "    GROUP BY tp1.activity_id\n",
    ")\n",
    "SELECT\n",
    "    a.user_id,\n",
    "    COUNT(ia.a_id) AS invalid_activity_count\n",
    "FROM\n",
    "    Activity AS a\n",
    "JOIN InvalidActivities AS ia ON a.id = ia.a_id\n",
    "GROUP BY a.user_id;\n",
    "\n",
    "\n",
    "\"\"\")\n",
    "\n",
    "result_11 = cursor.fetchall()\n",
    "print(tabulate([*result_11], headers=[\"user_id\",\"invalid_activity_count\"]))"
   ]
  },
  {
   "cell_type": "markdown",
   "metadata": {},
   "source": [
    "## 12.\n",
    "### Find all users who have registered transportation_mode and their most used transportation_mode.\n"
   ]
  },
  {
   "cell_type": "code",
   "execution_count": 55,
   "metadata": {},
   "outputs": [
    {
     "name": "stdout",
     "output_type": "stream",
     "text": [
      "  user_id  most_used_transportation_mode\n",
      "---------  -------------------------------\n",
      "      010  taxi\n",
      "      020  bike\n",
      "      021  walk\n",
      "      052  bus\n",
      "      056  bike\n",
      "      058  taxi\n",
      "      058  car\n",
      "      058  walk\n",
      "      060  walk\n",
      "      062  walk\n",
      "      062  bus\n",
      "      064  bike\n",
      "      065  bike\n",
      "      067  walk\n",
      "      069  bike\n",
      "      073  walk\n",
      "      075  walk\n",
      "      076  car\n",
      "      078  walk\n",
      "      080  taxi\n",
      "      080  bike\n",
      "      081  bike\n",
      "      082  walk\n",
      "      084  walk\n",
      "      085  walk\n",
      "      086  car\n",
      "      087  walk\n",
      "      089  car\n",
      "      091  bus\n",
      "      091  walk\n",
      "      092  bus\n",
      "      092  walk\n",
      "      097  bike\n",
      "      098  taxi\n",
      "      101  car\n",
      "      102  bike\n",
      "      107  walk\n",
      "      108  walk\n",
      "      111  taxi\n",
      "      112  walk\n",
      "      115  car\n",
      "      117  walk\n",
      "      125  bike\n",
      "      126  bike\n",
      "      128  car\n",
      "      136  walk\n",
      "      138  bike\n",
      "      139  bike\n",
      "      144  walk\n",
      "      153  walk\n",
      "      161  walk\n",
      "      163  bike\n",
      "      167  bike\n",
      "      175  bus\n"
     ]
    }
   ],
   "source": [
    "cursor.execute(\"\"\"\n",
    "SELECT \n",
    "    user_id, \n",
    "    transportation_mode\n",
    "FROM \n",
    "    (SELECT \n",
    "        user_id, \n",
    "        transportation_mode, \n",
    "        RANK() OVER(PARTITION BY user_id ORDER BY COUNT(*) DESC) as rnk\n",
    "     FROM Activity\n",
    "     WHERE transportation_mode IS NOT NULL\n",
    "     GROUP BY user_id, transportation_mode) AS Ranked\n",
    "WHERE \n",
    "    rnk = 1\n",
    "ORDER BY \n",
    "    user_id ASC;\n",
    "\n",
    "\"\"\")\n",
    "\n",
    "result_12 = cursor.fetchall()\n",
    "print(tabulate([*result_12], headers=[\"user_id\",\"most_used_transportation_mode\"]))"
   ]
  }
 ],
 "metadata": {
  "kernelspec": {
   "display_name": "Python 3",
   "language": "python",
   "name": "python3"
  },
  "language_info": {
   "codemirror_mode": {
    "name": "ipython",
    "version": 3
   },
   "file_extension": ".py",
   "mimetype": "text/x-python",
   "name": "python",
   "nbconvert_exporter": "python",
   "pygments_lexer": "ipython3",
   "version": "3.9.6"
  },
  "orig_nbformat": 4
 },
 "nbformat": 4,
 "nbformat_minor": 2
}
